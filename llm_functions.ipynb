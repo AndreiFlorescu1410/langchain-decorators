{
 "cells": [
  {
   "cell_type": "code",
   "execution_count": null,
   "metadata": {},
   "outputs": [],
   "source": [
    "# LLM function implementation\n",
    "\n",
    "\n",
    "https://platform.openai.com/docs/guides/gpt/function-calling"
   ]
  }
 ],
 "metadata": {
  "language_info": {
   "name": "python"
  },
  "orig_nbformat": 4
 },
 "nbformat": 4,
 "nbformat_minor": 2
}
